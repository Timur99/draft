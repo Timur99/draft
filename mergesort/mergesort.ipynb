{
 "cells": [
  {
   "cell_type": "code",
   "execution_count": 44,
   "id": "5801d919-1ac9-4a46-91ce-0aca022b6d99",
   "metadata": {},
   "outputs": [
    {
     "name": "stdout",
     "output_type": "stream",
     "text": [
      "15.69623189999993\n"
     ]
    }
   ],
   "source": [
    "def merge_sort(a):\n",
    "    if len(a) > 1:\n",
    "        mid = len(a) // 2\n",
    "        left = a[:mid]\n",
    "        right = a[mid:]\n",
    "       \n",
    "        merge_sort(left)\n",
    "        merge_sort(right)\n",
    "        \n",
    "        i = j = k = 0\n",
    "        \n",
    "        while i < len(left) and j < len(right):\n",
    "            if left[i] < right[j]:\n",
    "                a[k] = left[i]\n",
    "                i +=1\n",
    "                k +=1\n",
    "            else:\n",
    "                a[k] = right[j]\n",
    "                j +=1\n",
    "                k +=1\n",
    "        while i < len(left):\n",
    "            a[k] = left[i]\n",
    "            i +=1\n",
    "            k +=1\n",
    "        while j < len(right):\n",
    "            a[k] = right[j]\n",
    "            j +=1\n",
    "            k +=1\n",
    "        return a\n",
    "    \n",
    "\n",
    "\n",
    "def test():\n",
    "    a = [5,6,2,3,7,8,9,4]\n",
    "    merge_sort(a)\n",
    "    \n",
    "if __name__ == '__main__':\n",
    "    import timeit\n",
    "    print(timeit.timeit(\"test()\", setup=\"from __main__ import test\"))"
   ]
  },
  {
   "cell_type": "code",
   "execution_count": 9,
   "id": "5147e9f7-95fc-4988-b551-c71ad1b087e1",
   "metadata": {},
   "outputs": [
    {
     "data": {
      "text/plain": [
       "2.5"
      ]
     },
     "execution_count": 9,
     "metadata": {},
     "output_type": "execute_result"
    }
   ],
   "source": [
    "5 / 2"
   ]
  },
  {
   "cell_type": "code",
   "execution_count": 10,
   "id": "64bbcc51-f777-4f5a-aeed-1e9f29b10267",
   "metadata": {},
   "outputs": [
    {
     "data": {
      "text/plain": [
       "2"
      ]
     },
     "execution_count": 10,
     "metadata": {},
     "output_type": "execute_result"
    }
   ],
   "source": [
    "5 //2"
   ]
  },
  {
   "cell_type": "code",
   "execution_count": null,
   "id": "e59f6622-06a0-4fa0-bc0b-a1d441fe3e67",
   "metadata": {},
   "outputs": [],
   "source": []
  }
 ],
 "metadata": {
  "kernelspec": {
   "display_name": "Python 3 (ipykernel)",
   "language": "python",
   "name": "python3"
  },
  "language_info": {
   "codemirror_mode": {
    "name": "ipython",
    "version": 3
   },
   "file_extension": ".py",
   "mimetype": "text/x-python",
   "name": "python",
   "nbconvert_exporter": "python",
   "pygments_lexer": "ipython3",
   "version": "3.9.12"
  }
 },
 "nbformat": 4,
 "nbformat_minor": 5
}
