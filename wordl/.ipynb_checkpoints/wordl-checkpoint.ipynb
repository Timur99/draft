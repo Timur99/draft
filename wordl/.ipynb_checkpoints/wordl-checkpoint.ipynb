{
 "cells": [
  {
   "cell_type": "code",
   "execution_count": 4,
   "id": "20c5aa40-eaf8-4bb0-9632-c4798d6c159b",
   "metadata": {},
   "outputs": [
    {
     "data": {
      "text/plain": [
       "12600.0"
      ]
     },
     "execution_count": 4,
     "metadata": {},
     "output_type": "execute_result"
    }
   ],
   "source": [
    "# wordl\n",
    "# нужно загадать слово из 5 букв\n",
    "# пользователь должен ввести любое слово из 5 букв. 5 попыток\n",
    "# нужно отобразить какие буквы есть в слове (и их расположение)\n",
    "# если слово отгадано, то игра звершена\n"
   ]
  },
  {
   "cell_type": "code",
   "execution_count": 5,
   "id": "85b0dfdd-232e-4620-a428-93d542489777",
   "metadata": {},
   "outputs": [],
   "source": [
    "finish = 'wordl'"
   ]
  },
  {
   "cell_type": "code",
   "execution_count": 70,
   "id": "ef230a6b-2dcc-41fe-adde-33b9ee3b1fcc",
   "metadata": {},
   "outputs": [
    {
     "name": "stdin",
     "output_type": "stream",
     "text": [
      " wwwer\n"
     ]
    },
    {
     "name": "stdout",
     "output_type": "stream",
     "text": [
      "буква w стоит на своем месте\n",
      "буква r стоит не на своем месте\n",
      "['w', 'w', 'w', 'e', 'r']\n",
      "\u001b[34mr\n",
      "в слове нет этих буквы:  ['e']\n"
     ]
    }
   ],
   "source": [
    "\n"
   ]
  },
  {
   "cell_type": "code",
   "execution_count": 76,
   "id": "fbfd783d-ffdd-4882-803e-628a8e4826cd",
   "metadata": {},
   "outputs": [
    {
     "name": "stdin",
     "output_type": "stream",
     "text": [
      " wordl\n"
     ]
    },
    {
     "name": "stdout",
     "output_type": "stream",
     "text": [
      "буква w стоит на своем месте\n",
      "буква o стоит на своем месте\n",
      "буква r стоит на своем месте\n",
      "буква d стоит на своем месте\n",
      "буква l стоит на своем месте\n",
      "в слове нет этих буквы:  []\n",
      "Ты гений\n"
     ]
    }
   ],
   "source": [
    "lk = 0\n",
    "while lk !=5:\n",
    "    a = input()\n",
    "    \n",
    "    b = []\n",
    "    if len(a) > 5:\n",
    "        print(\"введи слово заново:\" + a)\n",
    "    else:\n",
    "        for j in a:\n",
    "            if j not in finish:\n",
    "                b.append(j)\n",
    "    \n",
    "    v = []      \n",
    "    v_dict = {}\n",
    "    v_dict2 = {}\n",
    "    for k in a:\n",
    "        for l in finish:\n",
    "            if k == l:\n",
    "                v.append(finish.index(l))\n",
    "                v_dict[k] = finish.index(l)\n",
    "                v_dict2[k] = a.index(k) \n",
    "\n",
    "    for i in v_dict:\n",
    "        if v_dict[i] == v_dict2[i]:\n",
    "            print('буква {} стоит на своем месте'.format(i))\n",
    "        else:\n",
    "            print('буква {} стоит не на своем месте'.format(i))\n",
    "            \n",
    "    print(\"в слове нет этих буквы: \", b)\n",
    "    if a == finish:\n",
    "        print('Ты гений')\n",
    "        break\n",
    "    lk+=1\n",
    "    \n",
    "    \n",
    "    "
   ]
  },
  {
   "cell_type": "code",
   "execution_count": null,
   "id": "1b3fcd2a-c4c6-4a62-be22-59a6a3d1b3e3",
   "metadata": {},
   "outputs": [],
   "source": []
  }
 ],
 "metadata": {
  "kernelspec": {
   "display_name": "Python 3 (ipykernel)",
   "language": "python",
   "name": "python3"
  },
  "language_info": {
   "codemirror_mode": {
    "name": "ipython",
    "version": 3
   },
   "file_extension": ".py",
   "mimetype": "text/x-python",
   "name": "python",
   "nbconvert_exporter": "python",
   "pygments_lexer": "ipython3",
   "version": "3.9.12"
  }
 },
 "nbformat": 4,
 "nbformat_minor": 5
}
