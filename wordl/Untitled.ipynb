{
 "cells": [
  {
   "cell_type": "code",
   "execution_count": null,
   "id": "1679d10f-2ef3-4dac-a901-8d3c0fcabaf2",
   "metadata": {},
   "outputs": [],
   "source": [
    "a = input()\n",
    "i = 0\n",
    "\n",
    "#while i !=5:\n",
    "b = []\n",
    "if len(a) > 5:\n",
    "    print(\"введи слово заново:\" + a)\n",
    "else:\n",
    "    for j in a:\n",
    "        if j not in finish:\n",
    "            b.append(j)\n",
    "        #else:\n",
    "         #   b.append('-')\n",
    "v = []      \n",
    "v_dict = {}\n",
    "v_dict2 = {}\n",
    "for k in a:\n",
    "    for l in finish:\n",
    "        if k == l:\n",
    "            v.append(finish.index(l))\n",
    "            v_dict[k] = finish.index(l)\n",
    "            v_dict2[k] = a.index(k)\n",
    "        #if a.index(k) == finish.index(l):\n",
    "         #   print(a.index(k))\n",
    "          #  print(finish.index(l))\n",
    "           # print('совпадает буква')\n",
    "            #print(l)\n",
    "        #else:\n",
    "         #   print('не совпадает буква')\n",
    "            \n",
    "def out_red(text):\n",
    "    \n",
    "    x = (\"\\033[34m{}\".format(text))\n",
    "    sd = list(a)\n",
    "    for df in range(len(sd)):\n",
    "        if sd[df] == x:\n",
    "            sd[df] = x\n",
    "    print(sd)\n",
    "    print(x)\n",
    "\n",
    "#print(v)\n",
    "#print(v_dict)\n",
    "#print(v_dict2)\n",
    "for i in v_dict:\n",
    "    if v_dict[i] == v_dict2[i]:\n",
    "        print('буква {} стоит на своем месте'.format(i))\n",
    "    else:\n",
    "        print('буква {} стоит не на своем месте'.format(i))\n",
    "        out_red(i)\n",
    "            \n",
    "print(\"в слове нет этих буквы: \", b )\n",
    "    #i+=1\n",
    "    "
   ]
  }
 ],
 "metadata": {
  "kernelspec": {
   "display_name": "Python 3 (ipykernel)",
   "language": "python",
   "name": "python3"
  },
  "language_info": {
   "codemirror_mode": {
    "name": "ipython",
    "version": 3
   },
   "file_extension": ".py",
   "mimetype": "text/x-python",
   "name": "python",
   "nbconvert_exporter": "python",
   "pygments_lexer": "ipython3",
   "version": "3.9.12"
  }
 },
 "nbformat": 4,
 "nbformat_minor": 5
}
