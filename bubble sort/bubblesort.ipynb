{
 "cells": [
  {
   "cell_type": "code",
   "execution_count": 15,
   "id": "fa1c3bef",
   "metadata": {},
   "outputs": [
    {
     "name": "stdout",
     "output_type": "stream",
     "text": [
      "[1, 1, 2, 3, 4, 5, 7, 11, 34, 67, 234]\n"
     ]
    }
   ],
   "source": [
    "a = [1,4,2,5,67,3,34,11,1,234,7]\n",
    "#i = 0\n",
    "for i in range(len(a)):\n",
    "    for j in range(len(a)-1):\n",
    "        if a[j] > a[j+1]:\n",
    "            a[j], a[j+1] = a[j+1], a[j]\n",
    "            #print(a)\n",
    "    #i +=1\n",
    "print(a)"
   ]
  },
  {
   "cell_type": "code",
   "execution_count": 22,
   "id": "cc020ecb",
   "metadata": {},
   "outputs": [
    {
     "name": "stdout",
     "output_type": "stream",
     "text": [
      "2.9755508999999165\n"
     ]
    }
   ],
   "source": [
    "def test():\n",
    "    a = [1,4,2,8,5]\n",
    "    for i in range(len(a)-1):\n",
    "        for j in range(len(a)-i-1):\n",
    "            if a[j] > a[j+1]:\n",
    "                a[j], a[j+1] = a[j+1], a[j]\n",
    "    return(a)\n",
    "\n",
    "\n",
    "if __name__ == '__main__':\n",
    "    import timeit\n",
    "    print(timeit.timeit(\"test()\", setup=\"from __main__ import test\"))"
   ]
  },
  {
   "cell_type": "code",
   "execution_count": 23,
   "id": "7302a295-3a51-4a47-81f9-ee0dfd3bf158",
   "metadata": {},
   "outputs": [
    {
     "name": "stdout",
     "output_type": "stream",
     "text": [
      "0.24634880000007797\n"
     ]
    }
   ],
   "source": [
    "def test():\n",
    "    a = [1,4,2,8,5]\n",
    "    return(a.sort)\n",
    "\n",
    "\n",
    "if __name__ == '__main__':\n",
    "    import timeit\n",
    "    print(timeit.timeit(\"test()\", setup=\"from __main__ import test\"))"
   ]
  },
  {
   "cell_type": "code",
   "execution_count": null,
   "id": "f31d3ac0-ba4e-471a-aa79-d5014ef834df",
   "metadata": {},
   "outputs": [],
   "source": []
  }
 ],
 "metadata": {
  "kernelspec": {
   "display_name": "Python 3 (ipykernel)",
   "language": "python",
   "name": "python3"
  },
  "language_info": {
   "codemirror_mode": {
    "name": "ipython",
    "version": 3
   },
   "file_extension": ".py",
   "mimetype": "text/x-python",
   "name": "python",
   "nbconvert_exporter": "python",
   "pygments_lexer": "ipython3",
   "version": "3.9.12"
  }
 },
 "nbformat": 4,
 "nbformat_minor": 5
}
